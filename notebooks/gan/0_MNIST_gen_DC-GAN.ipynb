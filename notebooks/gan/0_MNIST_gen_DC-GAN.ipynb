{
  "cells": [
    {
      "cell_type": "markdown",
      "metadata": {
        "id": "ErQP1Nw0EAyI"
      },
      "source": [
        "[![Made withJupyter](https://img.shields.io/badge/Made%20with-Jupyter-orange?style=for-the-badge&logo=Jupyter)](https://jupyter.org/try)\n",
        "\n",
        "# MNIST generation with DC-GAN\n",
        "\n",
        "This notebook is freely inspired by the [TensorFlow tutorial](https://www.tensorflow.org/tutorials/generative/dcgan) on Deep Convolutional Generative Adversarial Network (DC-GAN). The code is written using the [Keras Sequential API](https://www.tensorflow.org/guide/keras/sequential_model) to build the adversarial networks and the [`tf-gen-models` package](https://pypi.org/project/tf-gen-models/) to implement and run the training procedure."
      ]
    },
    {
      "cell_type": "markdown",
      "metadata": {
        "id": "1nmsCNTgEAyN"
      },
      "source": [
        "## What are GANs?\n",
        "\n",
        "Generative Adversarial Networks [[1](https://arxiv.org/abs/1406.2661)] are a powerful class of _generative models_ based on the simultaneous training of two neural networks:\n",
        "\n",
        "*  the **discriminator network** ($D$) is trained to distinguish the generator output from the reference dataset;\n",
        "* while the **generator network** ($G$) is trained to reproduce the reference dataset trying to fake the discriminator.\n",
        "\n",
        "The goal is that $D$ optimally discriminates on the origin of the two samples, and simultaneously the training procedure for $G$ is to maximize the _probability_ of $D$ making a mistake. This framework corresponds to a **minimax two-player game** [[1](https://arxiv.org/abs/1406.2661)]."
      ]
    },
    {
      "cell_type": "markdown",
      "metadata": {
        "id": "DELqq4dkWeeb"
      },
      "source": [
        "## Mathematical details\n",
        "\n",
        "The generator $G(z)$, fed by elements $z$ sampled according to a known distribution $p_z$ (typically gaussian), maps the **latent space** $\\mathcal{Z}$ to the reference dataset $\\mathcal{X}$, inducing a distribution $p_\\rm{gen}$ trained to match with the target distribution $p_\\rm{ref}$. The discriminator $D(x)$ outputs a single scalar, readable as the **probability** that $x$ comes from the reference dataset rather than $G$. Then, the optimization problem corresponds to train $D$ to maximize the probability of correct labelling, and simultaneously training $G$ to minimize $\\log(1 - D(G(z)))$."
      ]
    },
    {
      "cell_type": "markdown",
      "metadata": {
        "id": "4q6t5VvqpFtU"
      },
      "source": [
        "Defining the **loss function** $\\mathcal{L}_\\rm{GAN}$ as follows\n",
        "\n",
        "<center>$\\mathcal{L}_\\rm{GAN} = \\mathbb{E}_{x \\sim p_\\rm{ref}} \\left[ \\log{D(x)} \\right] + \\mathbb{E}_{z \\sim p_\\rm{gen}} \\left[ \\log(1 - D(G(z))) \\right]$</center>\n",
        "\n",
        "the _minimax game_ can be written in this form:\n",
        "\n",
        "<center>$\\min_G \\max_D \\mathcal{L}_\\rm{GAN}$</center>\n",
        "\n",
        "A unique solution exists, with $G$ recovering the reference distribution $p_\\rm{ref}$ and $D$ equal to 1/2 everywhere [[1](https://arxiv.org/abs/1406.2661)]."
      ]
    },
    {
      "cell_type": "markdown",
      "metadata": {
        "id": "y_t0arG3qy0I"
      },
      "source": [
        "Traditional GAN systems suffer from many issues, particularly during the training phase:\n",
        "\n",
        "* generator _collapsing_ to produce only a single sample or a small family of very similar samples;\n",
        "* generator and discriminator _oscillating_ during training rather than converging to a fixed point;\n",
        "* if _imbalance_ between the two agents occurs, the system doesn’t learn.\n",
        "\n",
        "All these issues are related to the **vanishing gradient** problem. In order to fix it, one can add _continuous noise_ to both discriminator and generator. This trick allows to learn thanks to a non-zero gradient [[2](https://arxiv.org/abs/1701.04862)]. The `GAN` class provided by the `tf-gen-models` package implements a training procedure stabilized by **noise injection** as just described."
      ]
    },
    {
      "cell_type": "markdown",
      "metadata": {
        "id": "M8pTLAH5Xj_S"
      },
      "source": [
        "## What are GANs used for?\n",
        "\n",
        "GANs are widely used as **generative image model** thanks to their capacity in reproducing highly faithful and diverse images with models learned directly from data [[3](https://arxiv.org/abs/1809.11096)]. The notebook will test GANs in generating *handwritten digits* accordingly to the MNIST dataset. In this example, the latent space elements $z$ will be mapped in a 28x28 space representing the **pixel intensity** of digit images. Both generated images and reference ones will feed the discriminator, trained to distinguish real from fake input. This framework corresponds to the *deep convolutional version* of the minimax game described above [[4](https://arxiv.org/abs/1511.06434)].\n",
        "\n",
        "<div align=\"center\">\n",
        "  <img src=\"https://raw.githubusercontent.com/mbarbetti/tf-gen-models/main/.github/images/gan/gan_scheme.png\" width=\"800\"/>\n",
        "</div>\n",
        "\n"
      ]
    },
    {
      "cell_type": "markdown",
      "metadata": {
        "id": "GSP-a5WjEAyP"
      },
      "source": [
        "## Let's code!\n",
        "\n",
        "<table align=\"left\">\n",
        "  <td>\n",
        "    <a href=\"https://colab.research.google.com/github/mbarbetti/tf-gen-models/blob/main/notebooks/gan/0_MNIST_gen_DC-GAN.ipynb\" target=\"_parent\"><img src=\"https://colab.research.google.com/assets/colab-badge.svg\" alt=\"Open In Colab\"/></a>\n",
        "  </td>\n",
        "  <td>\n",
        "    <a target=\"_blank\" href=\"https://kaggle.com/kernels/welcome?src=https://github.com/mbarbetti/tf-gen-models/blob/main/notebooks/gan/0_MNIST_gen_DC-GAN.ipynb\"><img src=\"https://kaggle.com/static/images/open-in-kaggle.svg\" /></a>\n",
        "  </td>\n",
        "</table>"
      ]
    },
    {
      "cell_type": "markdown",
      "metadata": {
        "id": "7qGylgSQEAyQ"
      },
      "source": [
        "### Setup"
      ]
    },
    {
      "cell_type": "code",
      "execution_count": 1,
      "metadata": {
        "colab": {
          "base_uri": "https://localhost:8080/"
        },
        "id": "4MtLDHwjKSXQ",
        "outputId": "1ea398cb-b0bb-4bfe-f448-ee5bcfd953bf"
      },
      "outputs": [
        {
          "output_type": "stream",
          "name": "stdout",
          "text": [
            "Requirement already satisfied: tf-gen-models in /usr/local/lib/python3.7/dist-packages (0.0.2)\n",
            "Requirement already satisfied: imageio in /usr/local/lib/python3.7/dist-packages (2.4.1)\n",
            "Requirement already satisfied: numpy in /usr/local/lib/python3.7/dist-packages (from imageio) (1.19.5)\n",
            "Requirement already satisfied: pillow in /usr/local/lib/python3.7/dist-packages (from imageio) (7.1.2)\n",
            "Collecting git+https://github.com/tensorflow/docs\n",
            "  Cloning https://github.com/tensorflow/docs to /tmp/pip-req-build-wtc3w_p3\n",
            "  Running command git clone -q https://github.com/tensorflow/docs /tmp/pip-req-build-wtc3w_p3\n",
            "Requirement already satisfied: astor in /usr/local/lib/python3.7/dist-packages (from tensorflow-docs==0.0.0.dev0) (0.8.1)\n",
            "Requirement already satisfied: absl-py in /usr/local/lib/python3.7/dist-packages (from tensorflow-docs==0.0.0.dev0) (1.0.0)\n",
            "Requirement already satisfied: jinja2 in /usr/local/lib/python3.7/dist-packages (from tensorflow-docs==0.0.0.dev0) (2.11.3)\n",
            "Requirement already satisfied: protobuf>=3.14 in /usr/local/lib/python3.7/dist-packages (from tensorflow-docs==0.0.0.dev0) (3.17.3)\n",
            "Requirement already satisfied: pyyaml in /usr/local/lib/python3.7/dist-packages (from tensorflow-docs==0.0.0.dev0) (3.13)\n",
            "Requirement already satisfied: six>=1.9 in /usr/local/lib/python3.7/dist-packages (from protobuf>=3.14->tensorflow-docs==0.0.0.dev0) (1.15.0)\n",
            "Requirement already satisfied: MarkupSafe>=0.23 in /usr/local/lib/python3.7/dist-packages (from jinja2->tensorflow-docs==0.0.0.dev0) (2.0.1)\n"
          ]
        }
      ],
      "source": [
        "## to run the training\n",
        "!pip install tf-gen-models\n",
        "\n",
        "## to generate GIFs\n",
        "!pip install imageio\n",
        "!pip install git+https://github.com/tensorflow/docs"
      ]
    },
    {
      "cell_type": "code",
      "execution_count": 2,
      "metadata": {
        "id": "dH1Gx2RGEAyQ"
      },
      "outputs": [],
      "source": [
        "import PIL\n",
        "import glob\n",
        "\n",
        "import numpy as np\n",
        "import tensorflow as tf\n",
        "import matplotlib.pyplot as plt\n",
        "\n",
        "from tensorflow.keras import Sequential, layers\n",
        "from tf_gen_models.algorithms.gan import GAN\n",
        "from tf_gen_models.callbacks import GanExpLrScheduler, ImageSaver, ModelSaver"
      ]
    },
    {
      "cell_type": "code",
      "execution_count": 3,
      "metadata": {
        "colab": {
          "base_uri": "https://localhost:8080/",
          "height": 35
        },
        "id": "eyY7WJLzbgd4",
        "outputId": "38a43beb-d9c3-4cd6-fb30-636d2c57fd6d"
      },
      "outputs": [
        {
          "output_type": "execute_result",
          "data": {
            "application/vnd.google.colaboratory.intrinsic+json": {
              "type": "string"
            },
            "text/plain": [
              "'2.7.0'"
            ]
          },
          "metadata": {},
          "execution_count": 3
        }
      ],
      "source": [
        "tf.__version__"
      ]
    },
    {
      "cell_type": "markdown",
      "metadata": {
        "id": "3KCfg-3gEAyS"
      },
      "source": [
        "### Load and prepare the dataset\n",
        "\n",
        "We will use the [MNIST dataset](https://en.wikipedia.org/wiki/MNIST_database) to train the generator and the discriminator. Overcoming the minimax game, the generator will be able to generate handwritten digits resembling the MNIST data."
      ]
    },
    {
      "cell_type": "code",
      "execution_count": 4,
      "metadata": {
        "id": "wEzC_bgDEAyS"
      },
      "outputs": [],
      "source": [
        "(train_img, _), (test_img, _) = tf.keras.datasets.mnist.load_data()"
      ]
    },
    {
      "cell_type": "markdown",
      "metadata": {
        "id": "5Z5al5WYcnVk"
      },
      "source": [
        "The dataset counts 70000 handwritten digits, arranged as a **training set** of 60000 examples and a **test set** of 10000 examples. Each instance corresponds to a 28x28 image with pixel intensity bounded between 0 and 255. To ease the neural networks training, the images should be normalized in a smaller range (i.e. between 0 and 1)."
      ]
    },
    {
      "cell_type": "code",
      "execution_count": 5,
      "metadata": {
        "id": "Ol43oL3SEAyT"
      },
      "outputs": [],
      "source": [
        "train_img = train_img . reshape ( train_img.shape[0], 28, 28, 1 ) \\\n",
        "                      . astype ( np.float32 )\n",
        "train_img = ( train_img - 127.5) / 127.5   # pixel intensity in [-1,1]\n",
        "\n",
        "test_img = test_img . reshape ( test_img.shape[0], 28, 28, 1 ) \\\n",
        "                    . astype ( np.float32 )\n",
        "test_img = ( test_img - 127.5) / 127.5   # pixel intensity in [-1,1]"
      ]
    },
    {
      "cell_type": "markdown",
      "metadata": {
        "id": "9n5I5nYccnVk"
      },
      "source": [
        "Here are some examples of handwritten digits."
      ]
    },
    {
      "cell_type": "code",
      "execution_count": 6,
      "metadata": {
        "colab": {
          "base_uri": "https://localhost:8080/",
          "height": 102
        },
        "id": "ikQBxVFpEAyU",
        "outputId": "8f9b2dcf-ae1b-4207-d971-1dd109df0709"
      },
      "outputs": [
        {
          "output_type": "display_data",
          "data": {
            "image/png": "[encoded data removed]",
            "text/plain": [
              "<Figure size 1000x2000 with 10 Axes>"
            ]
          },
          "metadata": {
            "needs_background": "light"
          }
        }
      ],
      "source": [
        "start = np.random.randint (0, 60000)\n",
        "\n",
        "plt.figure (figsize = (10,20), dpi = 100)\n",
        "for i in range(10):\n",
        "  plt.subplot (1, 10, i+1)\n",
        "  plt.imshow (train_img[start + i,:,:,0], cmap = \"gray\")\n",
        "  plt.axis (\"off\")\n",
        "plt.show()"
      ]
    },
    {
      "cell_type": "markdown",
      "metadata": {
        "id": "-Pn0XRMccnVl"
      },
      "source": [
        "To help the neural networks to consume data efficiently during the training procedure, it's useful prepare it within [`tf.data.Dataset`](https://www.tensorflow.org/api_docs/python/tf/data/Dataset)."
      ]
    },
    {
      "cell_type": "code",
      "execution_count": 7,
      "metadata": {
        "id": "BQJpFT-kEAyW"
      },
      "outputs": [],
      "source": [
        "BUFFER_SIZE = 60000\n",
        "BATCH_SIZE = 64"
      ]
    },
    {
      "cell_type": "code",
      "execution_count": 8,
      "metadata": {
        "id": "UQy0sQisEAyX"
      },
      "outputs": [],
      "source": [
        "train_ds = ( \n",
        "  tf.data.Dataset.from_tensor_slices ( train_img )\n",
        "  .shuffle ( BUFFER_SIZE )                       # shuffle all the images\n",
        "  .batch ( BATCH_SIZE, drop_remainder = True )   # mini-batch splitting\n",
        "  .cache()                                       # cache the dataset\n",
        "  #.prefetch ( tf.data.AUTOTUNE )   # pre-prepare data to be consumed\n",
        ")\n",
        "\n",
        "test_ds = ( \n",
        "  tf.data.Dataset.from_tensor_slices ( test_img )\n",
        "  .shuffle ( BUFFER_SIZE )                       # shuffle all the images\n",
        "  .batch ( BATCH_SIZE, drop_remainder = True )   # mini-batch splitting\n",
        "  .cache()                                       # cache the dataset\n",
        "  #.prefetch ( tf.data.AUTOTUNE )   # pre-prepare data to be consumed\n",
        ")"
      ]
    },
    {
      "cell_type": "markdown",
      "metadata": {
        "id": "Vbqb9IyCEAyX"
      },
      "source": [
        "### Create the adversarial players\n",
        "\n",
        "Both the generator and the discriminator are defined using the [Keras Sequential API](https://www.tensorflow.org/guide/keras/sequential_model)."
      ]
    },
    {
      "cell_type": "markdown",
      "metadata": {
        "id": "NMLOrvq6EAyY"
      },
      "source": [
        "#### The generator\n",
        "\n",
        "The generator uses [`tf.keras.layers.Conv2DTranspose`](https://www.tensorflow.org/api_docs/python/tf/keras/layers/Conv2DTranspose) (sometimes called **deconvolutional**) layers to produce an image from the latent space $\\mathcal{Z}$. Start with a `Dense` layer that takes $z$ elements as input, then upsample several times until to reach the desired image size of 28x28x1. Notice the [`tf.keras.layers.LeakyReLU`](https://www.tensorflow.org/api_docs/python/tf/keras/layers/LeakyReLU) activation for each layer, except the output layer which uses $\\tanh$."
      ]
    },
    {
      "cell_type": "code",
      "execution_count": 9,
      "metadata": {
        "id": "Lf5Qh97FcnVn"
      },
      "outputs": [],
      "source": [
        "LATENT_DIM = 100"
      ]
    },
    {
      "cell_type": "code",
      "execution_count": 10,
      "metadata": {
        "id": "mbdo1p09EAyY"
      },
      "outputs": [],
      "source": [
        "generator = Sequential ( name = \"generator\" )\n",
        "\n",
        "generator . add ( layers.Dense ( 7 * 7 * 256, use_bias = False, input_shape = (LATENT_DIM,) ) )\n",
        "generator . add ( layers.BatchNormalization() )\n",
        "generator . add ( layers.LeakyReLU ( alpha = 0.2 ) )\n",
        "\n",
        "generator . add ( layers.Reshape ( (7, 7, 256) ) )\n",
        "\n",
        "generator . add ( layers.Conv2DTranspose ( 128, (5, 5), strides = (1, 1), padding = \"same\", use_bias = False ) )\n",
        "generator . add ( layers.BatchNormalization() )\n",
        "generator . add ( layers.LeakyReLU ( alpha = 0.2 ) )\n",
        "\n",
        "generator . add ( layers.Conv2DTranspose ( 64, (5, 5), strides = (2, 2), padding = \"same\", use_bias = False ) )\n",
        "generator . add ( layers.BatchNormalization() )\n",
        "generator . add ( layers.LeakyReLU ( alpha = 0.2 ) )\n",
        "\n",
        "generator . add ( layers.Conv2DTranspose ( 1, (5, 5), strides = (2, 2), padding = \"same\", use_bias = False, activation = \"tanh\" ) )"
      ]
    },
    {
      "cell_type": "markdown",
      "metadata": {
        "id": "7g-3KGHAcnVn"
      },
      "source": [
        "Use the (as yet untrained) generator to create an image."
      ]
    },
    {
      "cell_type": "code",
      "execution_count": 11,
      "metadata": {
        "colab": {
          "base_uri": "https://localhost:8080/",
          "height": 339
        },
        "id": "1eFSOlqdcjWp",
        "outputId": "d10347da-f729-40a4-c311-0e4c140bef89"
      },
      "outputs": [
        {
          "output_type": "display_data",
          "data": {
            "image/png": "[encoded data removed]",
            "text/plain": [
              "<Figure size 400x400 with 1 Axes>"
            ]
          },
          "metadata": {
            "needs_background": "light"
          }
        }
      ],
      "source": [
        "z = tf.random.normal ( shape = [1, 100] )\n",
        "gen_image = generator ( z, training = False )\n",
        "\n",
        "plt.figure (figsize = (4,4), dpi = 100)\n",
        "plt.imshow (gen_image[0, :, :, 0], cmap = \"gray\")\n",
        "plt.axis (\"off\")\n",
        "plt.show()"
      ]
    },
    {
      "cell_type": "markdown",
      "metadata": {
        "id": "WQbt1vY4EAyZ"
      },
      "source": [
        "#### The discriminator\n",
        "\n",
        "The discriminator is a CNN-based image classifier."
      ]
    },
    {
      "cell_type": "code",
      "execution_count": 12,
      "metadata": {
        "id": "koh-MPIFEAyZ"
      },
      "outputs": [],
      "source": [
        "discriminator = Sequential ( name = \"discriminator\" )\n",
        "    \n",
        "discriminator . add ( layers.Conv2D ( 64, (5, 5), strides = (2, 2), padding = \"same\", input_shape = [28, 28, 1] ) )\n",
        "discriminator . add ( layers.LeakyReLU ( alpha = 0.2 ) )\n",
        "discriminator . add ( layers.Dropout (0.3) )\n",
        "\n",
        "discriminator . add ( layers.Conv2D ( 128, (5, 5), strides = (2, 2), padding = \"same\" ) )\n",
        "discriminator . add ( layers.LeakyReLU ( alpha = 0.2 ) )\n",
        "discriminator . add ( layers.Dropout (0.3) )\n",
        "\n",
        "discriminator . add ( layers.Flatten() )\n",
        "discriminator . add ( layers.Dense ( 1, activation = \"sigmoid\" ) )"
      ]
    },
    {
      "cell_type": "markdown",
      "metadata": {
        "id": "0XdTJqRGcnVo"
      },
      "source": [
        "Use the (as yet untrained) discriminator to classify the generated images as real or fake. The model will be trained to output the probability that the input is a real image."
      ]
    },
    {
      "cell_type": "code",
      "execution_count": 13,
      "metadata": {
        "colab": {
          "base_uri": "https://localhost:8080/"
        },
        "id": "uEBqc_7Ac6Ir",
        "outputId": "5eaf76b4-47b9-4c06-ca49-01abbd32b64c"
      },
      "outputs": [
        {
          "output_type": "execute_result",
          "data": {
            "text/plain": [
              "array([[0.50001967]], dtype=float32)"
            ]
          },
          "metadata": {},
          "execution_count": 13
        }
      ],
      "source": [
        "discriminator ( gen_image ) . numpy()"
      ]
    },
    {
      "cell_type": "markdown",
      "metadata": {
        "id": "amVDgDLMdHmd"
      },
      "source": [
        "### Training procedure\n",
        "\n",
        "The training procedure is implemented through the `GAN` class provided by the [`tf-gen-models` package](https://pypi.org/project/tf-gen-models/). The network learning is driven by the loss function previously described [[1](https://arxiv.org/abs/1406.2661)], while the training is stabilized thanks to a noise injection [[2](https://arxiv.org/abs/1701.04862)]."
      ]
    },
    {
      "cell_type": "code",
      "execution_count": 14,
      "metadata": {
        "id": "Vqa1qTalEAyZ"
      },
      "outputs": [],
      "source": [
        "gan = GAN (generator, discriminator, latent_dim = LATENT_DIM)"
      ]
    },
    {
      "cell_type": "markdown",
      "metadata": {
        "id": "LMltFvq-cnVp"
      },
      "source": [
        "The architecture chosen for the two players can be recovered through the `summary()` method."
      ]
    },
    {
      "cell_type": "code",
      "execution_count": 15,
      "metadata": {
        "id": "k3cEhtsScnVp",
        "outputId": "8497aeea-8f49-4dbf-faeb-6587e46de4c8",
        "colab": {
          "base_uri": "https://localhost:8080/"
        }
      },
      "outputs": [
        {
          "output_type": "stream",
          "name": "stdout",
          "text": [
            "Model: \"generator\"\n",
            "_________________________________________________________________\n",
            " Layer (type)                Output Shape              Param #   \n",
            "=================================================================\n",
            " dense (Dense)               (None, 12544)             1254400   \n",
            "                                                                 \n",
            " batch_normalization (BatchN  (None, 12544)            50176     \n",
            " ormalization)                                                   \n",
            "                                                                 \n",
            " leaky_re_lu (LeakyReLU)     (None, 12544)             0         \n",
            "                                                                 \n",
            " reshape (Reshape)           (None, 7, 7, 256)         0         \n",
            "                                                                 \n",
            " conv2d_transpose (Conv2DTra  (None, 7, 7, 128)        819200    \n",
            " nspose)                                                         \n",
            "                                                                 \n",
            " batch_normalization_1 (Batc  (None, 7, 7, 128)        512       \n",
            " hNormalization)                                                 \n",
            "                                                                 \n",
            " leaky_re_lu_1 (LeakyReLU)   (None, 7, 7, 128)         0         \n",
            "                                                                 \n",
            " conv2d_transpose_1 (Conv2DT  (None, 14, 14, 64)       204800    \n",
            " ranspose)                                                       \n",
            "                                                                 \n",
            " batch_normalization_2 (Batc  (None, 14, 14, 64)       256       \n",
            " hNormalization)                                                 \n",
            "                                                                 \n",
            " leaky_re_lu_2 (LeakyReLU)   (None, 14, 14, 64)        0         \n",
            "                                                                 \n",
            " conv2d_transpose_2 (Conv2DT  (None, 28, 28, 1)        1600      \n",
            " ranspose)                                                       \n",
            "                                                                 \n",
            "=================================================================\n",
            "Total params: 2,330,944\n",
            "Trainable params: 2,305,472\n",
            "Non-trainable params: 25,472\n",
            "_________________________________________________________________\n",
            "Model: \"discriminator\"\n",
            "_________________________________________________________________\n",
            " Layer (type)                Output Shape              Param #   \n",
            "=================================================================\n",
            " conv2d (Conv2D)             (None, 14, 14, 64)        1664      \n",
            "                                                                 \n",
            " leaky_re_lu_3 (LeakyReLU)   (None, 14, 14, 64)        0         \n",
            "                                                                 \n",
            " dropout (Dropout)           (None, 14, 14, 64)        0         \n",
            "                                                                 \n",
            " conv2d_1 (Conv2D)           (None, 7, 7, 128)         204928    \n",
            "                                                                 \n",
            " leaky_re_lu_4 (LeakyReLU)   (None, 7, 7, 128)         0         \n",
            "                                                                 \n",
            " dropout_1 (Dropout)         (None, 7, 7, 128)         0         \n",
            "                                                                 \n",
            " flatten (Flatten)           (None, 6272)              0         \n",
            "                                                                 \n",
            " dense_1 (Dense)             (None, 1)                 6273      \n",
            "                                                                 \n",
            "=================================================================\n",
            "Total params: 212,865\n",
            "Trainable params: 212,865\n",
            "Non-trainable params: 0\n",
            "_________________________________________________________________\n"
          ]
        }
      ],
      "source": [
        "gan . summary()"
      ]
    },
    {
      "cell_type": "markdown",
      "metadata": {
        "id": "fC5_gjVmcnVq"
      },
      "source": [
        "#### Generator and discriminator optimizers\n",
        "\n",
        "The discriminator and the generator **optimizers** are different since we will train two networks separately (even if simultaneously)."
      ]
    },
    {
      "cell_type": "code",
      "execution_count": 16,
      "metadata": {
        "id": "ziL3VMkvcnVq"
      },
      "outputs": [],
      "source": [
        "G_LR = 1e-5\n",
        "D_LR = 1e-5"
      ]
    },
    {
      "cell_type": "code",
      "execution_count": 17,
      "metadata": {
        "id": "fhgkiczeEAya"
      },
      "outputs": [],
      "source": [
        "g_opt = tf.keras.optimizers.Adam ( G_LR )\n",
        "d_opt = tf.keras.optimizers.Adam ( D_LR )\n",
        "\n",
        "gan . compile ( g_optimizer = g_opt , \n",
        "                d_optimizer = d_opt , \n",
        "                g_updt_per_batch = 1 , \n",
        "                d_updt_per_batch = 3 )"
      ]
    },
    {
      "cell_type": "markdown",
      "metadata": {
        "id": "YG_A7Pt3cnVr"
      },
      "source": [
        "In order to reach the minimum _quickly_ and _safely_, the learning rate should be decreased gradually during the training. The `GanLrScheduler` class implements an **exponential decay**, where `factor` represents the decay rate and `step` corresponds to the decay step."
      ]
    },
    {
      "cell_type": "code",
      "execution_count": 18,
      "metadata": {
        "id": "_L1iSZHEcnVr"
      },
      "outputs": [],
      "source": [
        "lr_sched = GanExpLrScheduler ( factor = 0.90, step = 5 )"
      ]
    },
    {
      "cell_type": "markdown",
      "source": [
        "#### Custom callbacks\n",
        "\n",
        "A callback is a powerful tool to customize the behavior of a Keras model during training, evaluation, or inference. For instance, the `GanLrScheduler` class mentioned above inherits from the [`tf.keras.callbacks.Callback`](https://www.tensorflow.org/api_docs/python/tf/keras/callbacks/Callback) class. The `tf-gen-models` package offers more callbacks to customize the training procedure, like `ImageSaver` and `ModelSaver`:\n",
        "\n",
        "* `ImageSaver` allows to save the generator output (more precisely, a 4x4 matrix of digit images) once every `step` epochs;\n",
        "* `ModelSaver` allows to save a checkpoint of the generator and/or discriminator models once every `step` epochs.\n",
        "\n",
        "To learn more about custom callbacks, refers to the [TensorFlow guide](https://www.tensorflow.org/guide/keras/custom_callback)."
      ],
      "metadata": {
        "id": "Ess73WYogGXl"
      }
    },
    {
      "cell_type": "code",
      "execution_count": 19,
      "metadata": {
        "id": "XG6p97JZcnVr"
      },
      "outputs": [],
      "source": [
        "img_saver = ImageSaver ( name = \"dc-gan\", dirname = \"./images/dc-gan\", step = 1 )"
      ]
    },
    {
      "cell_type": "code",
      "execution_count": 20,
      "metadata": {
        "id": "6SKL_vcfcnVr"
      },
      "outputs": [],
      "source": [
        "mod_saver = ModelSaver ( name = \"dc-gan\", dirname = \"./models\", step = 10 )"
      ]
    },
    {
      "cell_type": "markdown",
      "metadata": {
        "id": "1AY0zMWHcnVr"
      },
      "source": [
        "#### Minimax game\n",
        "\n",
        "The `GAN` class inherits from the [`tf.keras.Model`](https://www.tensorflow.org/api_docs/python/tf/keras/Model) and implements a [custom `fit()` function](https://keras.io/guides/customizing_what_happens_in_fit/). Calling the `fit()` method, every mini-batch of data the discriminator loss function is computed and network weights updated for `d_updt_per_batch` times, then the generator loss is computed and relative weights updated for `g_updt_per_batch` times. Note, training GANs can be _tricky_. It's important that the generator and discriminator do not overpower each other (e.g., that they train at a similar rate).\n",
        "\n",
        "At the beginning of the training, the generated images look like random noise. As training progresses, the generated digits will look increasingly real (even if **mode collapse** may occur). After about 50 epochs, they resemble MNIST digits. This may take about one minute / epoch with the default settings on [Google Colab](https://colab.research.google.com/)."
      ]
    },
    {
      "cell_type": "code",
      "execution_count": 21,
      "metadata": {
        "id": "NJnq__TKcnVs"
      },
      "outputs": [],
      "source": [
        "EPOCHS = 50\n",
        "STEPS_PER_EPOCH = int ( len(train_img) / BATCH_SIZE )"
      ]
    },
    {
      "cell_type": "code",
      "execution_count": null,
      "metadata": {
        "colab": {
          "base_uri": "https://localhost:8080/"
        },
        "id": "EKOe1ddQEAya",
        "outputId": "0fa9eabb-7c53-4ef6-fac5-a0dfb3010552"
      },
      "outputs": [
        {
          "output_type": "stream",
          "name": "stdout",
          "text": [
            "WARNING:tensorflow:Compiled the loaded model, but the compiled metrics have yet to be built. `model.compile_metrics` will be empty until you train or evaluate the model.\n",
            "INFO:tensorflow:Assets written to: ./models/dc-gan/saved_gen_ep0010/assets\n",
            "WARNING:tensorflow:Compiled the loaded model, but the compiled metrics have yet to be built. `model.compile_metrics` will be empty until you train or evaluate the model.\n",
            "INFO:tensorflow:Assets written to: ./models/dc-gan/saved_disc_ep0010/assets\n"
          ]
        }
      ],
      "source": [
        "train = gan . fit ( train_ds , \n",
        "                    epochs = EPOCHS ,\n",
        "                    steps_per_epoch = STEPS_PER_EPOCH ,\n",
        "                    validation_data = test_ds ,\n",
        "                    callbacks = [ lr_sched, img_saver, mod_saver ] ,\n",
        "                    verbose = 0 )"
      ]
    },
    {
      "cell_type": "markdown",
      "source": [
        "#### Learning and metric curves"
      ],
      "metadata": {
        "id": "l1qCLzyYiEU0"
      }
    },
    {
      "cell_type": "code",
      "execution_count": null,
      "metadata": {
        "id": "-XrT26w9EAyb"
      },
      "outputs": [],
      "source": [
        "fig, ax = plt.subplots (1, 2, figsize = (15,5), dpi = 100)\n",
        "plt.subplots_adjust (wspace = 0.2)\n",
        "\n",
        "ax[0] . set_title (\"Learning curves\", fontsize = 14)\n",
        "ax[0] . set_xlabel (\"Training epochs\", fontsize = 12)\n",
        "ax[0] . set_ylabel (f\"{gan.loss_name}\", fontsize = 12)\n",
        "ax[0] . plot (train.history[\"g_loss\"], linewidth = 1.5, color = \"coral\", label = \"generator\")\n",
        "ax[0] . plot (train.history[\"d_loss\"], linewidth = 1.5, color = \"dodgerblue\", label = \"discriminator\")\n",
        "ax[0] . legend (loc = \"upper right\", fontsize = 10)\n",
        "\n",
        "ax[1] . set_title (\"Metric curves\", fontsize = 14)\n",
        "ax[1] . set_xlabel (\"Training epochs\", fontsize = 12)\n",
        "ax[1] . set_ylabel (\"Mean square error\", fontsize = 12)\n",
        "ax[1] . plot (train.history[\"mse\"], linewidth = 1.5, color = \"forestgreen\", label = \"training set\")\n",
        "ax[1] . plot (train.history[\"val_mse\"], linewidth = 1.5, color = \"orangered\", label = \"validation set\")\n",
        "ax[1] . legend (loc = \"upper right\", fontsize = 10)\n",
        "\n",
        "plt.show()"
      ]
    },
    {
      "cell_type": "markdown",
      "source": [
        "#### Create a GIF"
      ],
      "metadata": {
        "id": "uxhyM-N6iKTT"
      }
    },
    {
      "cell_type": "code",
      "source": [
        "# Display a single image using the epoch number\n",
        "def display_image (epoch):\n",
        "  return PIL.Image.open (f\"./images/dc-gan_ep{epoch:04d}.png\")"
      ],
      "metadata": {
        "id": "ChnbsDQFpuQB"
      },
      "execution_count": null,
      "outputs": []
    },
    {
      "cell_type": "code",
      "source": [
        "display_image (EPOCHS)   # last 16 images generated"
      ],
      "metadata": {
        "id": "Nt7Z8XiHqLwd"
      },
      "execution_count": null,
      "outputs": []
    },
    {
      "cell_type": "markdown",
      "source": [
        "Use `PIL` to create an animated gif using the images saved during training."
      ],
      "metadata": {
        "id": "ZHTZS7pyp4f1"
      }
    },
    {
      "cell_type": "code",
      "source": [
        "anim_file = \"./images/dc-gan.gif\"\n",
        "\n",
        "filenames = glob.glob (\"./images/dc-gan_ep*.png\")\n",
        "filenames = sorted (filenames)\n",
        "\n",
        "img , *imgs = [ PIL.Image.open(f) for f in filenames ]\n",
        "img . save ( fp = anim_file, format = \"GIF\", append_images = imgs,\n",
        "             save_all = True, duration = 135, loop = 0 )"
      ],
      "metadata": {
        "id": "OEQsOdbTkP0j"
      },
      "execution_count": null,
      "outputs": []
    },
    {
      "cell_type": "code",
      "execution_count": null,
      "metadata": {
        "id": "I6MDDyhVcnVt"
      },
      "outputs": [],
      "source": [
        "import tensorflow_docs.vis.embed as embed\n",
        "embed.embed_file (anim_file)"
      ]
    },
    {
      "cell_type": "markdown",
      "source": [
        "## Next steps\n",
        "\n",
        "To learn more about GANs see the [notebooks](https://github.com/mbarbetti/tf-gen-models/tree/main/notebooks) section of the `tf-gen-models` [GitHub repository](https://github.com/mbarbetti/tf-gen-models)."
      ],
      "metadata": {
        "id": "DdyBMcktpEBg"
      }
    },
    {
      "cell_type": "markdown",
      "metadata": {
        "id": "Q6JVj2UeEAyO"
      },
      "source": [
        "## References\n",
        "\n",
        "1.  I. J. Goodfellow _et al._, \"Generative Adversarial Nets\", [arXiv:1406.2661](https://arxiv.org/abs/1406.2661).\n",
        "2. M. Arjovsky and L. Bottou, \"Towards Principled Methods for Training Generative Adversarial Networks\", [arXiv:1701.04862](https://arxiv.org/abs/1701.04862).\n",
        "3. A. Brock, J. Donahue and K. Simonyan, \"Large Scale GAN Training for High Fidelity Natural Image Synthesis\", [arXiv:1809.11096](https://arxiv.org/abs/1809.11096).\n",
        "4. A. Radford, L. Metz and S. Chintala, \"Unsupervised Representation Learning with Deep Convolutional Generative Adversarial Networks\", [arXiv:1511.06434](https://arxiv.org/abs/1511.06434)"
      ]
    }
  ],
  "metadata": {
    "accelerator": "GPU",
    "colab": {
      "name": "0_MNIST_gen_DC-GAN.ipynb",
      "provenance": [],
      "toc_visible": true
    },
    "interpreter": {
      "hash": "509037c093046b62af1066633923ed7457933c67876dee065b4ea60fb6ff9db7"
    },
    "kernelspec": {
      "display_name": "Python 3.8.12 64-bit ('tf-cpu': conda)",
      "language": "python",
      "name": "python3"
    },
    "language_info": {
      "codemirror_mode": {
        "name": "ipython",
        "version": 3
      },
      "file_extension": ".py",
      "mimetype": "text/x-python",
      "name": "python",
      "nbconvert_exporter": "python",
      "pygments_lexer": "ipython3",
      "version": "3.8.12"
    },
    "orig_nbformat": 4
  },
  "nbformat": 4,
  "nbformat_minor": 0
}