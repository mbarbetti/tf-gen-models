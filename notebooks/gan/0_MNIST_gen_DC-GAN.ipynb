{
  "cells": [
    {
      "cell_type": "markdown",
      "metadata": {
        "id": "ErQP1Nw0EAyI"
      },
      "source": [
        "[![Made withJupyter](https://img.shields.io/badge/Made%20with-Jupyter-orange?style=for-the-badge&logo=Jupyter)](https://jupyter.org/try)\n",
        "\n",
        "# MNIST generation with DC-GAN\n",
        "\n",
        "This notebook is freely inspired by the [TensorFlow tutorial](https://www.tensorflow.org/tutorials/generative/dcgan) on Deep Convolutional Generative Adversarial Network (DC-GAN). The code is written using the [Keras Sequential API](https://www.tensorflow.org/guide/keras/sequential_model) to build the adversarial networks and the [`tf-gen-models` package](https://pypi.org/project/tf-gen-models/) to implement and run the training procedure."
      ]
    },
    {
      "cell_type": "markdown",
      "metadata": {
        "id": "1nmsCNTgEAyN"
      },
      "source": [
        "## What are GANs?\n",
        "\n",
        "Generative Adversarial Networks [[1](https://arxiv.org/abs/1406.2661)] are a powerful class of _generative models_ based on the simultaneous training of two neural networks:\n",
        "\n",
        "*  the **discriminator network** ($D$) is trained to distinguish the generator output from the reference dataset;\n",
        "* while the **generator network** ($G$) is trained to reproduce the reference dataset trying to fake the discriminator.\n",
        "\n",
        "The goal is that $D$ optimally discriminates on the origin of the two samples, and simultaneously the training procedure for $G$ is to maximize the _probability_ of $D$ making a mistake. This framework corresponds to a **minimax two-player game** [[1](https://arxiv.org/abs/1406.2661)]."
      ]
    },
    {
      "cell_type": "markdown",
      "source": [
        "## Mathematical details\n",
        "\n",
        "The generator $G(z)$, fed by elements $z$ sampled according to a known distribution $p_z$ (typically gaussian), maps the **latent space** $\\mathcal{Z}$ to the reference dataset $\\mathcal{X}$, inducing a distribution $p_\\rm{gen}$ trained to match with the target distribution $p_\\rm{ref}$. The discriminator $D(x)$ outputs a single scalar, readable as the **probability** that $x$ comes from the reference dataset rather than $G$. Then, the optimization problem corresponds to train $D$ to maximize the probability of correct labelling, and simultaneously training $G$ to minimize $\\log(1 - D(G(z)))$."
      ],
      "metadata": {
        "id": "DELqq4dkWeeb"
      }
    },
    {
      "cell_type": "markdown",
      "source": [
        "Defining the **loss function** $\\mathcal{L}_\\rm{GAN}$ as follows\n",
        "\n",
        "<center>$\\mathcal{L}_\\rm{GAN} = \\mathbb{E}_{x \\sim p_\\rm{ref}} \\left[ \\log{D(x)} \\right] + \\mathbb{E}_{z \\sim p_\\rm{gen}} \\left[ \\log(1 - D(G(z))) \\right]$</center>\n",
        "\n",
        "the _minimax game_ can be written in this form:\n",
        "\n",
        "<center>$\\min_G \\max_D \\mathcal{L}_\\rm{GAN}$</center>\n",
        "\n",
        "A unique solution exists, with $G$ recovering the reference distribution $p_\\rm{ref}$ and $D$ equal to 1/2 everywhere [[1](https://arxiv.org/abs/1406.2661)]."
      ],
      "metadata": {
        "id": "4q6t5VvqpFtU"
      }
    },
    {
      "cell_type": "markdown",
      "source": [
        "Traditional GAN systems suffer from many issues, particularly during the training phase:\n",
        "\n",
        "* generator _collapsing_ to produce only a single sample or a small family of very similar samples;\n",
        "* generator and discriminator _oscillating_ during training rather than converging to a fixed point;\n",
        "* if _imbalance_ between the two agents occurs, the system doesn’t learn.\n",
        "\n",
        "All these issues are related to the **vanishing gradient** problem. In order to fix it, one can add _continuous noise_ to both discriminator and generator. This trick allows to learn thanks to a non-zero gradient [[2](https://arxiv.org/abs/1701.04862)]. The `GAN` class provided by the `tf-gen-models` package implements a training procedure stabilized by **noise injection** as just described."
      ],
      "metadata": {
        "id": "y_t0arG3qy0I"
      }
    },
    {
      "cell_type": "markdown",
      "source": [
        "## What are GANs used for?\n",
        "\n",
        "GANs are widely used as **generative image model** thanks to their capacity in reproducing highly faithful and diverse images with models learned directly from data [[3](https://arxiv.org/abs/1809.11096)]. The notebook will test GANs in generating *handwritten digits* accordingly to the MNIST dataset. In this example, the latent space elements $z$ will be mapped in a 28x28 space representing the **pixel intensity** of digit images. Both generated images and reference ones will feed the discriminator, trained to distinguish real from fake input. This framework corresponds to the *deep convolutional version* of the minimax game described above [[4](https://arxiv.org/abs/1511.06434)].\n",
        "\n",
        "<div align=\"center\">\n",
        "  <img src=\"https://raw.githubusercontent.com/mbarbetti/tf-gen-models/main/.github/images/gan/gan_scheme.png\" width=\"800\"/>\n",
        "</div>\n",
        "\n"
      ],
      "metadata": {
        "id": "M8pTLAH5Xj_S"
      }
    },
    {
      "cell_type": "markdown",
      "metadata": {
        "id": "Q6JVj2UeEAyO"
      },
      "source": [
        "## References\n",
        "\n",
        "1.  I. J. Goodfellow _et al._, \"Generative Adversarial Nets\", [arXiv:1406.2661](https://arxiv.org/abs/1406.2661).\n",
        "2. M. Arjovsky and L. Bottou, \"Towards Principled Methods for Training Generative Adversarial Networks\", [arXiv:1701.04862](https://arxiv.org/abs/1701.04862).\n",
        "3. A. Brock, J. Donahue and K. Simonyan, \"Large Scale GAN Training for High Fidelity Natural Image Synthesis\", [arXiv:1809.11096](https://arxiv.org/abs/1809.11096).\n",
        "4. A. Radford, L. Metz and S. Chintala, \"Unsupervised Representation Learning with Deep Convolutional Generative Adversarial Networks\", [arXiv:1511.06434](https://arxiv.org/abs/1511.06434)"
      ]
    },
    {
      "cell_type": "markdown",
      "metadata": {
        "id": "GSP-a5WjEAyP"
      },
      "source": [
        "## Let's code!\n",
        "\n",
        "<table align=\"left\">\n",
        "  <td>\n",
        "    <a href=\"https://colab.research.google.com/github/mbarbetti/tf-gen-models/blob/main/notebooks/gan/0_MNIST_gen_DC-GAN.ipynb\" target=\"_parent\"><img src=\"https://colab.research.google.com/assets/colab-badge.svg\" alt=\"Open In Colab\"/></a>\n",
        "  </td>\n",
        "  <td>\n",
        "    <a target=\"_blank\" href=\"https://kaggle.com/kernels/welcome?src=https://github.com/mbarbetti/tf-gen-models/blob/main/notebooks/gan/0_MNIST_gen_DC-GAN.ipynb\"><img src=\"https://kaggle.com/static/images/open-in-kaggle.svg\" /></a>\n",
        "  </td>\n",
        "</table>"
      ]
    },
    {
      "cell_type": "markdown",
      "metadata": {
        "id": "7qGylgSQEAyQ"
      },
      "source": [
        "### Setup"
      ]
    },
    {
      "cell_type": "code",
      "source": [
        "## to run the training\n",
        "!pip install tf-gen-models\n",
        "\n",
        "## to generate GIFs\n",
        "!pip install imageio\n",
        "!pip install git+https://github.com/tensorflow/docs"
      ],
      "metadata": {
        "id": "4MtLDHwjKSXQ",
        "outputId": "ba974cd9-ed0f-44ed-d720-283319c15432",
        "colab": {
          "base_uri": "https://localhost:8080/"
        }
      },
      "execution_count": 39,
      "outputs": [
        {
          "output_type": "stream",
          "name": "stdout",
          "text": [
            "Requirement already satisfied: tf-gen-models in /usr/local/lib/python3.7/dist-packages (0.0.0)\n",
            "Requirement already satisfied: imageio in /usr/local/lib/python3.7/dist-packages (2.4.1)\n",
            "Requirement already satisfied: numpy in /usr/local/lib/python3.7/dist-packages (from imageio) (1.19.5)\n",
            "Requirement already satisfied: pillow in /usr/local/lib/python3.7/dist-packages (from imageio) (7.1.2)\n",
            "Collecting git+https://github.com/tensorflow/docs\n",
            "  Cloning https://github.com/tensorflow/docs to /tmp/pip-req-build-jrs219ly\n",
            "  Running command git clone -q https://github.com/tensorflow/docs /tmp/pip-req-build-jrs219ly\n",
            "Requirement already satisfied: astor in /usr/local/lib/python3.7/dist-packages (from tensorflow-docs==0.0.0.dev0) (0.8.1)\n",
            "Requirement already satisfied: absl-py in /usr/local/lib/python3.7/dist-packages (from tensorflow-docs==0.0.0.dev0) (1.0.0)\n",
            "Requirement already satisfied: jinja2 in /usr/local/lib/python3.7/dist-packages (from tensorflow-docs==0.0.0.dev0) (2.11.3)\n",
            "Requirement already satisfied: protobuf>=3.14 in /usr/local/lib/python3.7/dist-packages (from tensorflow-docs==0.0.0.dev0) (3.17.3)\n",
            "Requirement already satisfied: pyyaml in /usr/local/lib/python3.7/dist-packages (from tensorflow-docs==0.0.0.dev0) (3.13)\n",
            "Requirement already satisfied: six>=1.9 in /usr/local/lib/python3.7/dist-packages (from protobuf>=3.14->tensorflow-docs==0.0.0.dev0) (1.15.0)\n",
            "Requirement already satisfied: MarkupSafe>=0.23 in /usr/local/lib/python3.7/dist-packages (from jinja2->tensorflow-docs==0.0.0.dev0) (2.0.1)\n",
            "Building wheels for collected packages: tensorflow-docs\n",
            "  Building wheel for tensorflow-docs (setup.py) ... \u001b[?25l\u001b[?25hdone\n",
            "  Created wheel for tensorflow-docs: filename=tensorflow_docs-0.0.0.dev0-py3-none-any.whl size=173744 sha256=b95342dd1d0e950ed26c5aeaa8ead4ba06791117dcfda6291a544439c54d5342\n",
            "  Stored in directory: /tmp/pip-ephem-wheel-cache-uafsqfbg/wheels/cc/c4/d8/5341e93b6376c5c929c49469fce21155eb69cef1a4da4ce32c\n",
            "Successfully built tensorflow-docs\n",
            "Installing collected packages: tensorflow-docs\n",
            "Successfully installed tensorflow-docs-0.0.0.dev0\n"
          ]
        }
      ]
    },
    {
      "cell_type": "code",
      "execution_count": 40,
      "metadata": {
        "id": "dH1Gx2RGEAyQ"
      },
      "outputs": [],
      "source": [
        "import os\n",
        "import PIL\n",
        "import glob\n",
        "import imageio\n",
        "\n",
        "import numpy as np\n",
        "import tensorflow as tf\n",
        "import matplotlib.pyplot as plt\n",
        "\n",
        "from IPython import display\n",
        "from tensorflow.keras import Sequential, layers\n",
        "from tf_gen_models.algorithms.gan import GAN"
      ]
    },
    {
      "cell_type": "code",
      "source": [
        "tf.__version__"
      ],
      "metadata": {
        "id": "eyY7WJLzbgd4",
        "outputId": "8e461468-14c3-4b81-bdb2-09ff1ae9f13b",
        "colab": {
          "base_uri": "https://localhost:8080/",
          "height": 35
        }
      },
      "execution_count": 41,
      "outputs": [
        {
          "output_type": "execute_result",
          "data": {
            "application/vnd.google.colaboratory.intrinsic+json": {
              "type": "string"
            },
            "text/plain": [
              "'2.7.0'"
            ]
          },
          "metadata": {},
          "execution_count": 41
        }
      ]
    },
    {
      "cell_type": "markdown",
      "metadata": {
        "id": "3KCfg-3gEAyS"
      },
      "source": [
        "### Load and prepare the dataset\n",
        "\n",
        "You will use the MNIST dataset to train the generator and the discriminator. The generator will generate handwritten digits resembling the MNIST data."
      ]
    },
    {
      "cell_type": "code",
      "execution_count": 3,
      "metadata": {
        "colab": {
          "base_uri": "https://localhost:8080/"
        },
        "id": "wEzC_bgDEAyS",
        "outputId": "546f4b77-6f04-4af3-c3d3-eab8bf692574"
      },
      "outputs": [
        {
          "output_type": "stream",
          "name": "stdout",
          "text": [
            "Downloading data from https://storage.googleapis.com/tensorflow/tf-keras-datasets/mnist.npz\n",
            "11493376/11490434 [==============================] - 0s 0us/step\n",
            "11501568/11490434 [==============================] - 0s 0us/step\n"
          ]
        }
      ],
      "source": [
        "(train_images, train_labels), (_, _) = tf.keras.datasets.mnist.load_data()"
      ]
    },
    {
      "cell_type": "code",
      "execution_count": 4,
      "metadata": {
        "id": "Ol43oL3SEAyT"
      },
      "outputs": [],
      "source": [
        "train_images = train_images . reshape ( train_images.shape[0], 28, 28, 1 )\n",
        "train_images . astype ( np.float32 )\n",
        "train_images = train_images / 255"
      ]
    },
    {
      "cell_type": "code",
      "execution_count": 36,
      "metadata": {
        "colab": {
          "base_uri": "https://localhost:8080/",
          "height": 265
        },
        "id": "ikQBxVFpEAyU",
        "outputId": "7ecfb7a6-4892-43fe-f335-f16f009691ef"
      },
      "outputs": [
        {
          "output_type": "display_data",
          "data": {
            "image/png": "[encoded data removed]",
            "text/plain": [
              "<Figure size 432x288 with 1 Axes>"
            ]
          },
          "metadata": {
            "needs_background": "light"
          }
        }
      ],
      "source": [
        "plt.imshow (train_images[13,:,:,0], cmap = \"gray\")\n",
        "plt.show()"
      ]
    },
    {
      "cell_type": "code",
      "execution_count": 12,
      "metadata": {
        "id": "BQJpFT-kEAyW"
      },
      "outputs": [],
      "source": [
        "BUFFER_SIZE = 60000\n",
        "BATCH_SIZE = 256\n",
        "LATENT_DIM = 100\n",
        "EPOCHS = 5"
      ]
    },
    {
      "cell_type": "code",
      "execution_count": 13,
      "metadata": {
        "colab": {
          "base_uri": "https://localhost:8080/"
        },
        "id": "UQy0sQisEAyX",
        "outputId": "7ad9454a-2a37-4e7f-9678-3a112515ff6b"
      },
      "outputs": [
        {
          "output_type": "execute_result",
          "data": {
            "text/plain": [
              "<TensorSliceDataset shapes: (28, 28, 1), types: tf.float64>"
            ]
          },
          "metadata": {},
          "execution_count": 13
        }
      ],
      "source": [
        "# Batch and shuffle the data\n",
        "train_ds = tf.data.Dataset.from_tensor_slices ( train_images )\n",
        "train_ds . shuffle ( BUFFER_SIZE )\n",
        "train_ds . batch ( BATCH_SIZE )\n",
        "train_ds . cache()\n",
        "train_ds . prefetch ( tf.data.AUTOTUNE )\n",
        "train_ds"
      ]
    },
    {
      "cell_type": "markdown",
      "metadata": {
        "id": "Vbqb9IyCEAyX"
      },
      "source": [
        "### Create the adversarial players\n",
        "\n",
        "Both the generator and the discriminator are defined using the [Keras Sequential API](https://www.tensorflow.org/guide/keras/sequential_model)."
      ]
    },
    {
      "cell_type": "markdown",
      "metadata": {
        "id": "NMLOrvq6EAyY"
      },
      "source": [
        "#### The generator\n",
        "\n",
        "The generator uses `tf.keras.layers.Conv2DTranspose` (upsampling) layers to produce an image from a seed (random noise). Start with a `Dense` layer that takes this seed as input, then upsample several times until you reach the desired image size of 28x28x1. Notice the `tf.keras.layers.LeakyReLU` activation for each layer, except the output layer which uses tanh."
      ]
    },
    {
      "cell_type": "code",
      "execution_count": 43,
      "metadata": {
        "id": "mbdo1p09EAyY"
      },
      "outputs": [],
      "source": [
        "generator = Sequential ( name = \"generator\" )\n",
        "\n",
        "generator . add ( layers.Dense ( 7*7*256, use_bias = False, input_shape = (LATENT_DIM,) ) )\n",
        "generator . add ( layers.BatchNormalization() )\n",
        "generator . add ( layers.LeakyReLU() )\n",
        "\n",
        "generator . add ( layers.Reshape ( (7, 7, 256) ) )\n",
        "\n",
        "generator . add ( layers.Conv2DTranspose ( 128, (5, 5), strides = (1, 1), padding = \"same\", use_bias = False ) )\n",
        "generator . add ( layers.BatchNormalization() )\n",
        "generator . add ( layers.LeakyReLU() )\n",
        "\n",
        "generator . add ( layers.Conv2DTranspose ( 64, (5, 5), strides = (2, 2), padding = \"same\", use_bias = False ) )\n",
        "generator . add ( layers.BatchNormalization() )\n",
        "generator . add ( layers.LeakyReLU() )\n",
        "\n",
        "generator . add ( layers.Conv2DTranspose ( 1, (5, 5), strides = (2, 2), padding = \"same\", use_bias = False, activation = \"tanh\" ) )"
      ]
    },
    {
      "cell_type": "code",
      "source": [
        "noise = tf.random.normal([1, 100])\n",
        "gen_image = generator(noise, training=False)\n",
        "\n",
        "plt.imshow(gen_image[0, :, :, 0], cmap='gray')\n",
        "plt.show()"
      ],
      "metadata": {
        "id": "1eFSOlqdcjWp",
        "outputId": "23f8d5f0-f4ab-4ef4-986e-1a7f82c8592c",
        "colab": {
          "base_uri": "https://localhost:8080/",
          "height": 265
        }
      },
      "execution_count": 44,
      "outputs": [
        {
          "output_type": "display_data",
          "data": {
            "image/png": "[encoded data removed]",
            "text/plain": [
              "<Figure size 432x288 with 1 Axes>"
            ]
          },
          "metadata": {
            "needs_background": "light"
          }
        }
      ]
    },
    {
      "cell_type": "markdown",
      "metadata": {
        "id": "WQbt1vY4EAyZ"
      },
      "source": [
        "#### The discriminator\n",
        "\n",
        "The discriminator is a CNN-based image classifier."
      ]
    },
    {
      "cell_type": "code",
      "execution_count": 47,
      "metadata": {
        "id": "koh-MPIFEAyZ"
      },
      "outputs": [],
      "source": [
        "discriminator = Sequential ( name = \"discriminator\" )\n",
        "    \n",
        "discriminator . add ( layers.Conv2D ( 64, (5, 5), strides = (2, 2), padding = \"same\", input_shape = [28, 28, 1] ) )\n",
        "discriminator . add ( layers.LeakyReLU() )\n",
        "discriminator . add ( layers.Dropout (0.3) )\n",
        "\n",
        "discriminator . add ( layers.Conv2D ( 128, (5, 5), strides = (2, 2), padding = \"same\" ) )\n",
        "discriminator . add ( layers.LeakyReLU() )\n",
        "discriminator . add ( layers.Dropout (0.3) )\n",
        "\n",
        "discriminator . add ( layers.Flatten() )\n",
        "discriminator . add ( layers.Dense ( 1, activation = \"sigmoid\" ) )"
      ]
    },
    {
      "cell_type": "code",
      "source": [
        "decision = discriminator(gen_image)\n",
        "print (decision)"
      ],
      "metadata": {
        "id": "uEBqc_7Ac6Ir",
        "outputId": "1e6b42fa-9a0a-4da9-e436-f61ce835bc6d",
        "colab": {
          "base_uri": "https://localhost:8080/"
        }
      },
      "execution_count": 48,
      "outputs": [
        {
          "output_type": "stream",
          "name": "stdout",
          "text": [
            "tf.Tensor([[0.5000984]], shape=(1, 1), dtype=float32)\n"
          ]
        }
      ]
    },
    {
      "cell_type": "markdown",
      "source": [
        "### Training procedure"
      ],
      "metadata": {
        "id": "amVDgDLMdHmd"
      }
    },
    {
      "cell_type": "code",
      "execution_count": 31,
      "metadata": {
        "colab": {
          "base_uri": "https://localhost:8080/"
        },
        "id": "Vqa1qTalEAyZ",
        "outputId": "5381620d-d95b-4522-92a0-c8ba9eaecc4d"
      },
      "outputs": [
        {
          "output_type": "stream",
          "name": "stdout",
          "text": [
            "Model: \"generator\"\n",
            "_________________________________________________________________\n",
            " Layer (type)                Output Shape              Param #   \n",
            "=================================================================\n",
            " dense_6 (Dense)             (None, 12544)             1254400   \n",
            "                                                                 \n",
            " batch_normalization_9 (Batc  (None, 12544)            50176     \n",
            " hNormalization)                                                 \n",
            "                                                                 \n",
            " leaky_re_lu_15 (LeakyReLU)  (None, 12544)             0         \n",
            "                                                                 \n",
            " reshape_3 (Reshape)         (None, 7, 7, 256)         0         \n",
            "                                                                 \n",
            " conv2d_transpose_9 (Conv2DT  (None, 7, 7, 128)        819200    \n",
            " ranspose)                                                       \n",
            "                                                                 \n",
            " batch_normalization_10 (Bat  (None, 7, 7, 128)        512       \n",
            " chNormalization)                                                \n",
            "                                                                 \n",
            " leaky_re_lu_16 (LeakyReLU)  (None, 7, 7, 128)         0         \n",
            "                                                                 \n",
            " conv2d_transpose_10 (Conv2D  (None, 14, 14, 64)       204800    \n",
            " Transpose)                                                      \n",
            "                                                                 \n",
            " batch_normalization_11 (Bat  (None, 14, 14, 64)       256       \n",
            " chNormalization)                                                \n",
            "                                                                 \n",
            " leaky_re_lu_17 (LeakyReLU)  (None, 14, 14, 64)        0         \n",
            "                                                                 \n",
            " conv2d_transpose_11 (Conv2D  (None, 28, 28, 1)        1600      \n",
            " Transpose)                                                      \n",
            "                                                                 \n",
            "=================================================================\n",
            "Total params: 2,330,944\n",
            "Trainable params: 2,305,472\n",
            "Non-trainable params: 25,472\n",
            "_________________________________________________________________\n",
            "Model: \"discriminator\"\n",
            "_________________________________________________________________\n",
            " Layer (type)                Output Shape              Param #   \n",
            "=================================================================\n",
            " conv2d_6 (Conv2D)           (None, 14, 14, 64)        1664      \n",
            "                                                                 \n",
            " leaky_re_lu_18 (LeakyReLU)  (None, 14, 14, 64)        0         \n",
            "                                                                 \n",
            " dropout_6 (Dropout)         (None, 14, 14, 64)        0         \n",
            "                                                                 \n",
            " conv2d_7 (Conv2D)           (None, 7, 7, 128)         204928    \n",
            "                                                                 \n",
            " leaky_re_lu_19 (LeakyReLU)  (None, 7, 7, 128)         0         \n",
            "                                                                 \n",
            " dropout_7 (Dropout)         (None, 7, 7, 128)         0         \n",
            "                                                                 \n",
            " flatten_3 (Flatten)         (None, 6272)              0         \n",
            "                                                                 \n",
            " dense_7 (Dense)             (None, 1)                 6273      \n",
            "                                                                 \n",
            "=================================================================\n",
            "Total params: 212,865\n",
            "Trainable params: 212,865\n",
            "Non-trainable params: 0\n",
            "_________________________________________________________________\n"
          ]
        }
      ],
      "source": [
        "gan = GAN (generator, discriminator, latent_dim = LATENT_DIM)\n",
        "gan . summary()"
      ]
    },
    {
      "cell_type": "code",
      "execution_count": 32,
      "metadata": {
        "id": "fhgkiczeEAya"
      },
      "outputs": [],
      "source": [
        "g_optimizer = tf.keras.optimizers.Adam(1e-4)\n",
        "d_optimizer = tf.keras.optimizers.Adam(1e-4)\n",
        "\n",
        "gan . compile (g_optimizer, d_optimizer)"
      ]
    },
    {
      "cell_type": "code",
      "execution_count": 33,
      "metadata": {
        "colab": {
          "base_uri": "https://localhost:8080/"
        },
        "id": "EKOe1ddQEAya",
        "outputId": "e80f8e65-3c98-4f74-aafc-8e7e01b2bdf3"
      },
      "outputs": [
        {
          "output_type": "stream",
          "name": "stdout",
          "text": [
            "Epoch 1/5\n",
            "1875/1875 [==============================] - 84s 43ms/step - mse: 0.1898 - d_loss: 0.6897 - g_loss: -0.6904 - d_lr: 1.0000e-04 - g_lr: 1.0000e-04\n",
            "Epoch 2/5\n",
            "1875/1875 [==============================] - 85s 46ms/step - mse: 0.1261 - d_loss: 0.9488 - g_loss: -0.9484 - d_lr: 1.0000e-04 - g_lr: 1.0000e-04\n",
            "Epoch 3/5\n",
            "1875/1875 [==============================] - 86s 46ms/step - mse: 0.1279 - d_loss: 1.2788 - g_loss: -1.2795 - d_lr: 1.0000e-04 - g_lr: 1.0000e-04\n",
            "Epoch 4/5\n",
            "1875/1875 [==============================] - 85s 45ms/step - mse: 0.1287 - d_loss: 1.3081 - g_loss: -1.3082 - d_lr: 1.0000e-04 - g_lr: 1.0000e-04\n",
            "Epoch 5/5\n",
            "1875/1875 [==============================] - 84s 45ms/step - mse: 0.1303 - d_loss: 1.3049 - g_loss: -1.3036 - d_lr: 1.0000e-04 - g_lr: 1.0000e-04\n"
          ]
        }
      ],
      "source": [
        "train = gan . fit (train_images, epochs = EPOCHS)"
      ]
    },
    {
      "cell_type": "code",
      "execution_count": 34,
      "metadata": {
        "colab": {
          "base_uri": "https://localhost:8080/",
          "height": 461
        },
        "id": "-XrT26w9EAyb",
        "outputId": "34907f71-34aa-416b-f927-6856896e5e0b"
      },
      "outputs": [
        {
          "output_type": "display_data",
          "data": {
            "image/png": "[encoded data removed]",
            "text/plain": [
              "<Figure size 800x500 with 1 Axes>"
            ]
          },
          "metadata": {
            "needs_background": "light"
          }
        }
      ],
      "source": [
        "plt.figure (figsize = (8,5), dpi = 100)\n",
        "plt.xlabel (\"Training epochs\", fontsize = 12)\n",
        "plt.ylabel (f\"{gan.loss_name}\", fontsize = 12)\n",
        "plt.plot (train.history[\"g_loss\"], label = \"generator\")\n",
        "plt.plot (train.history[\"d_loss\"], label = \"discriminator\")\n",
        "plt.legend (loc = \"upper right\", fontsize = 10)\n",
        "plt.show()"
      ]
    },
    {
      "cell_type": "code",
      "execution_count": 35,
      "metadata": {
        "colab": {
          "base_uri": "https://localhost:8080/",
          "height": 265
        },
        "id": "P1ACpDBrEAyb",
        "outputId": "b6f74e2d-465f-4226-f7c7-740dfb9eca0f"
      },
      "outputs": [
        {
          "output_type": "display_data",
          "data": {
            "image/png": "[encoded data removed]",
            "text/plain": [
              "<Figure size 432x288 with 1 Axes>"
            ]
          },
          "metadata": {
            "needs_background": "light"
          }
        }
      ],
      "source": [
        "gen_image = gan.generate ( batch_size = 1 )\n",
        "\n",
        "plt.imshow ( gen_image[0, :, :, 0], cmap = \"gray\" )\n",
        "plt.show()"
      ]
    }
  ],
  "metadata": {
    "interpreter": {
      "hash": "509037c093046b62af1066633923ed7457933c67876dee065b4ea60fb6ff9db7"
    },
    "kernelspec": {
      "display_name": "Python 3.8.12 64-bit ('tf-cpu': conda)",
      "language": "python",
      "name": "python3"
    },
    "language_info": {
      "codemirror_mode": {
        "name": "ipython",
        "version": 3
      },
      "file_extension": ".py",
      "mimetype": "text/x-python",
      "name": "python",
      "nbconvert_exporter": "python",
      "pygments_lexer": "ipython3",
      "version": "3.8.12"
    },
    "orig_nbformat": 4,
    "colab": {
      "name": "0_MNIST_gen_DC-GAN.ipynb",
      "provenance": []
    },
    "accelerator": "GPU"
  },
  "nbformat": 4,
  "nbformat_minor": 0
}